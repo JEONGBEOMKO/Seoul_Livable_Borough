{
 "cells": [
  {
   "cell_type": "code",
   "execution_count": 1,
   "source": [
    "import pandas as pd\n"
   ],
   "outputs": [],
   "metadata": {}
  },
  {
   "cell_type": "code",
   "execution_count": 6,
   "source": [
    "df = pd.read_csv(\"../pop.csv\",index_col=0)"
   ],
   "outputs": [],
   "metadata": {}
  },
  {
   "cell_type": "code",
   "execution_count": 9,
   "source": [
    "df_quat = df['기간'].unique()\n"
   ],
   "outputs": [],
   "metadata": {}
  },
  {
   "cell_type": "code",
   "execution_count": 10,
   "source": [
    "df_quat"
   ],
   "outputs": [
    {
     "output_type": "execute_result",
     "data": {
      "text/plain": [
       "array(['2018_3', '2018_4', '2019_1', '2019_2', '2019_3', '2019_4',\n",
       "       '2020_1', '2020_2', '2020_3', '2020_4', '2021_1', '2021_2'],\n",
       "      dtype=object)"
      ]
     },
     "metadata": {},
     "execution_count": 10
    }
   ],
   "metadata": {}
  },
  {
   "cell_type": "code",
   "execution_count": 13,
   "source": [
    "df_yong = df[df['구별'] == '용산구']"
   ],
   "outputs": [],
   "metadata": {}
  },
  {
   "cell_type": "code",
   "execution_count": 17,
   "source": [
    "df_yong"
   ],
   "outputs": [
    {
     "output_type": "execute_result",
     "data": {
      "text/plain": [
       "         기간   구별      인구      세대  세대당인구    연도\n",
       "0    2018_3  용산구  245087  108777   2.11  2018\n",
       "26   2018_4  용산구  245090  108974   2.10  2018\n",
       "52   2019_1  용산구  245139  109413   2.09  2019\n",
       "78   2019_2  용산구  245069  109692   2.09  2019\n",
       "104  2019_3  용산구  244989  109911   2.08  2019\n",
       "130  2019_4  용산구  245185  110126   2.08  2019\n",
       "156  2020_1  용산구  246165  110895   2.07  2020\n",
       "182  2020_2  용산구  245362  111586   2.06  2020\n",
       "208  2020_3  용산구  244953  112451   2.04  2020\n",
       "234  2020_4  용산구  244645  113093   2.03  2020\n",
       "260  2021_1  용산구  243336  112881   2.03  2021\n",
       "286  2021_2  용산구  240665  111650   2.03  2021"
      ],
      "text/html": [
       "<div>\n",
       "<style scoped>\n",
       "    .dataframe tbody tr th:only-of-type {\n",
       "        vertical-align: middle;\n",
       "    }\n",
       "\n",
       "    .dataframe tbody tr th {\n",
       "        vertical-align: top;\n",
       "    }\n",
       "\n",
       "    .dataframe thead th {\n",
       "        text-align: right;\n",
       "    }\n",
       "</style>\n",
       "<table border=\"1\" class=\"dataframe\">\n",
       "  <thead>\n",
       "    <tr style=\"text-align: right;\">\n",
       "      <th></th>\n",
       "      <th>기간</th>\n",
       "      <th>구별</th>\n",
       "      <th>인구</th>\n",
       "      <th>세대</th>\n",
       "      <th>세대당인구</th>\n",
       "      <th>연도</th>\n",
       "    </tr>\n",
       "  </thead>\n",
       "  <tbody>\n",
       "    <tr>\n",
       "      <th>0</th>\n",
       "      <td>2018_3</td>\n",
       "      <td>용산구</td>\n",
       "      <td>245087</td>\n",
       "      <td>108777</td>\n",
       "      <td>2.11</td>\n",
       "      <td>2018</td>\n",
       "    </tr>\n",
       "    <tr>\n",
       "      <th>26</th>\n",
       "      <td>2018_4</td>\n",
       "      <td>용산구</td>\n",
       "      <td>245090</td>\n",
       "      <td>108974</td>\n",
       "      <td>2.10</td>\n",
       "      <td>2018</td>\n",
       "    </tr>\n",
       "    <tr>\n",
       "      <th>52</th>\n",
       "      <td>2019_1</td>\n",
       "      <td>용산구</td>\n",
       "      <td>245139</td>\n",
       "      <td>109413</td>\n",
       "      <td>2.09</td>\n",
       "      <td>2019</td>\n",
       "    </tr>\n",
       "    <tr>\n",
       "      <th>78</th>\n",
       "      <td>2019_2</td>\n",
       "      <td>용산구</td>\n",
       "      <td>245069</td>\n",
       "      <td>109692</td>\n",
       "      <td>2.09</td>\n",
       "      <td>2019</td>\n",
       "    </tr>\n",
       "    <tr>\n",
       "      <th>104</th>\n",
       "      <td>2019_3</td>\n",
       "      <td>용산구</td>\n",
       "      <td>244989</td>\n",
       "      <td>109911</td>\n",
       "      <td>2.08</td>\n",
       "      <td>2019</td>\n",
       "    </tr>\n",
       "    <tr>\n",
       "      <th>130</th>\n",
       "      <td>2019_4</td>\n",
       "      <td>용산구</td>\n",
       "      <td>245185</td>\n",
       "      <td>110126</td>\n",
       "      <td>2.08</td>\n",
       "      <td>2019</td>\n",
       "    </tr>\n",
       "    <tr>\n",
       "      <th>156</th>\n",
       "      <td>2020_1</td>\n",
       "      <td>용산구</td>\n",
       "      <td>246165</td>\n",
       "      <td>110895</td>\n",
       "      <td>2.07</td>\n",
       "      <td>2020</td>\n",
       "    </tr>\n",
       "    <tr>\n",
       "      <th>182</th>\n",
       "      <td>2020_2</td>\n",
       "      <td>용산구</td>\n",
       "      <td>245362</td>\n",
       "      <td>111586</td>\n",
       "      <td>2.06</td>\n",
       "      <td>2020</td>\n",
       "    </tr>\n",
       "    <tr>\n",
       "      <th>208</th>\n",
       "      <td>2020_3</td>\n",
       "      <td>용산구</td>\n",
       "      <td>244953</td>\n",
       "      <td>112451</td>\n",
       "      <td>2.04</td>\n",
       "      <td>2020</td>\n",
       "    </tr>\n",
       "    <tr>\n",
       "      <th>234</th>\n",
       "      <td>2020_4</td>\n",
       "      <td>용산구</td>\n",
       "      <td>244645</td>\n",
       "      <td>113093</td>\n",
       "      <td>2.03</td>\n",
       "      <td>2020</td>\n",
       "    </tr>\n",
       "    <tr>\n",
       "      <th>260</th>\n",
       "      <td>2021_1</td>\n",
       "      <td>용산구</td>\n",
       "      <td>243336</td>\n",
       "      <td>112881</td>\n",
       "      <td>2.03</td>\n",
       "      <td>2021</td>\n",
       "    </tr>\n",
       "    <tr>\n",
       "      <th>286</th>\n",
       "      <td>2021_2</td>\n",
       "      <td>용산구</td>\n",
       "      <td>240665</td>\n",
       "      <td>111650</td>\n",
       "      <td>2.03</td>\n",
       "      <td>2021</td>\n",
       "    </tr>\n",
       "  </tbody>\n",
       "</table>\n",
       "</div>"
      ]
     },
     "metadata": {},
     "execution_count": 17
    }
   ],
   "metadata": {}
  },
  {
   "cell_type": "code",
   "execution_count": 34,
   "source": [
    "df_yong['인구'].values.tolist()"
   ],
   "outputs": [
    {
     "output_type": "execute_result",
     "data": {
      "text/plain": [
       "[245087,\n",
       " 245090,\n",
       " 245139,\n",
       " 245069,\n",
       " 244989,\n",
       " 245185,\n",
       " 246165,\n",
       " 245362,\n",
       " 244953,\n",
       " 244645,\n",
       " 243336,\n",
       " 240665]"
      ]
     },
     "metadata": {},
     "execution_count": 34
    }
   ],
   "metadata": {}
  },
  {
   "cell_type": "code",
   "execution_count": 4,
   "source": [
    "import pandas as pd\n",
    "park = pd.read_csv(\"../park.csv\",index_col=0)"
   ],
   "outputs": [],
   "metadata": {}
  },
  {
   "cell_type": "code",
   "execution_count": 7,
   "source": [
    "park"
   ],
   "outputs": [
    {
     "output_type": "execute_result",
     "data": {
      "text/plain": [
       "      기간   구별         면적  1인당면적\n",
       "0   2018  서울시  168843.30  16.80\n",
       "1   2018  종로구   11555.80  70.90\n",
       "2   2018   중구    3132.00  23.10\n",
       "3   2018  용산구    1795.60   7.30\n",
       "4   2018  성동구    3102.10   9.80\n",
       "..   ...  ...        ...    ...\n",
       "73  2020  관악구   12431.42  24.38\n",
       "74  2020  서초구   15072.56  35.13\n",
       "75  2020  강남구    7768.75  14.28\n",
       "76  2020  송파구    4771.42   7.08\n",
       "77  2020  강동구    3362.41   7.25\n",
       "\n",
       "[78 rows x 4 columns]"
      ],
      "text/html": [
       "<div>\n",
       "<style scoped>\n",
       "    .dataframe tbody tr th:only-of-type {\n",
       "        vertical-align: middle;\n",
       "    }\n",
       "\n",
       "    .dataframe tbody tr th {\n",
       "        vertical-align: top;\n",
       "    }\n",
       "\n",
       "    .dataframe thead th {\n",
       "        text-align: right;\n",
       "    }\n",
       "</style>\n",
       "<table border=\"1\" class=\"dataframe\">\n",
       "  <thead>\n",
       "    <tr style=\"text-align: right;\">\n",
       "      <th></th>\n",
       "      <th>기간</th>\n",
       "      <th>구별</th>\n",
       "      <th>면적</th>\n",
       "      <th>1인당면적</th>\n",
       "    </tr>\n",
       "  </thead>\n",
       "  <tbody>\n",
       "    <tr>\n",
       "      <th>0</th>\n",
       "      <td>2018</td>\n",
       "      <td>서울시</td>\n",
       "      <td>168843.30</td>\n",
       "      <td>16.80</td>\n",
       "    </tr>\n",
       "    <tr>\n",
       "      <th>1</th>\n",
       "      <td>2018</td>\n",
       "      <td>종로구</td>\n",
       "      <td>11555.80</td>\n",
       "      <td>70.90</td>\n",
       "    </tr>\n",
       "    <tr>\n",
       "      <th>2</th>\n",
       "      <td>2018</td>\n",
       "      <td>중구</td>\n",
       "      <td>3132.00</td>\n",
       "      <td>23.10</td>\n",
       "    </tr>\n",
       "    <tr>\n",
       "      <th>3</th>\n",
       "      <td>2018</td>\n",
       "      <td>용산구</td>\n",
       "      <td>1795.60</td>\n",
       "      <td>7.30</td>\n",
       "    </tr>\n",
       "    <tr>\n",
       "      <th>4</th>\n",
       "      <td>2018</td>\n",
       "      <td>성동구</td>\n",
       "      <td>3102.10</td>\n",
       "      <td>9.80</td>\n",
       "    </tr>\n",
       "    <tr>\n",
       "      <th>...</th>\n",
       "      <td>...</td>\n",
       "      <td>...</td>\n",
       "      <td>...</td>\n",
       "      <td>...</td>\n",
       "    </tr>\n",
       "    <tr>\n",
       "      <th>73</th>\n",
       "      <td>2020</td>\n",
       "      <td>관악구</td>\n",
       "      <td>12431.42</td>\n",
       "      <td>24.38</td>\n",
       "    </tr>\n",
       "    <tr>\n",
       "      <th>74</th>\n",
       "      <td>2020</td>\n",
       "      <td>서초구</td>\n",
       "      <td>15072.56</td>\n",
       "      <td>35.13</td>\n",
       "    </tr>\n",
       "    <tr>\n",
       "      <th>75</th>\n",
       "      <td>2020</td>\n",
       "      <td>강남구</td>\n",
       "      <td>7768.75</td>\n",
       "      <td>14.28</td>\n",
       "    </tr>\n",
       "    <tr>\n",
       "      <th>76</th>\n",
       "      <td>2020</td>\n",
       "      <td>송파구</td>\n",
       "      <td>4771.42</td>\n",
       "      <td>7.08</td>\n",
       "    </tr>\n",
       "    <tr>\n",
       "      <th>77</th>\n",
       "      <td>2020</td>\n",
       "      <td>강동구</td>\n",
       "      <td>3362.41</td>\n",
       "      <td>7.25</td>\n",
       "    </tr>\n",
       "  </tbody>\n",
       "</table>\n",
       "<p>78 rows × 4 columns</p>\n",
       "</div>"
      ]
     },
     "metadata": {},
     "execution_count": 7
    }
   ],
   "metadata": {}
  },
  {
   "cell_type": "code",
   "execution_count": null,
   "source": [],
   "outputs": [],
   "metadata": {}
  }
 ],
 "metadata": {
  "orig_nbformat": 4,
  "language_info": {
   "name": "python",
   "version": "3.9.5",
   "mimetype": "text/x-python",
   "codemirror_mode": {
    "name": "ipython",
    "version": 3
   },
   "pygments_lexer": "ipython3",
   "nbconvert_exporter": "python",
   "file_extension": ".py"
  },
  "kernelspec": {
   "name": "python3",
   "display_name": "Python 3.9.5 64-bit"
  },
  "interpreter": {
   "hash": "aee8b7b246df8f9039afb4144a1f6fd8d2ca17a180786b69acc140d282b71a49"
  }
 },
 "nbformat": 4,
 "nbformat_minor": 2
}